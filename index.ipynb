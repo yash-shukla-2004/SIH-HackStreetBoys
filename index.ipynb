{
 "cells": [
  {
   "cell_type": "code",
   "execution_count": 73,
   "id": "d4462b7a-3d27-4889-95e2-1662576cc82d",
   "metadata": {},
   "outputs": [],
   "source": [
    "import pandas as pd\n",
    "from sqlalchemy import create_engine\n",
    "import numpy as np\n",
    "import psycopg2\n",
    "import matplotlib.pyplot as plt"
   ]
  },
  {
   "cell_type": "code",
   "execution_count": 74,
   "id": "1aa2dcb3-e65e-4cc8-a448-26db73a94c99",
   "metadata": {},
   "outputs": [
    {
     "data": {
      "text/plain": [
       "sl_no                  0\n",
       "name                   0\n",
       "date_of_appointment    0\n",
       "date_of_retirement     0\n",
       "remarks                0\n",
       "dtype: int64"
      ]
     },
     "execution_count": 74,
     "metadata": {},
     "output_type": "execute_result"
    }
   ],
   "source": [
    "import psycopg2\n",
    "import pandas as pd\n",
    "\n",
    "# Connection details\n",
    "conn = psycopg2.connect(\n",
    "    dbname=\"sampledata\",\n",
    "    user=\"yash\",\n",
    "    password=\"Hackstreet123!\",\n",
    "    host=\"sih123.postgres.database.azure.com\",\n",
    "    port=\"5432\"\n",
    ")\n",
    "\n",
    "# Create a cursor object\n",
    "cur = conn.cursor()\n",
    "\n",
    "# SQL Query\n",
    "query = query = 'SELECT * FROM \"judges_supremecourtjudge\"'\n",
    "\n",
    "\n",
    "# Execute the query and fetch the data\n",
    "cur.execute(query)\n",
    "data = cur.fetchall()\n",
    "\n",
    "# Load data into a Pandas DataFrame\n",
    "df = pd.DataFrame(data, columns=[desc[0] for desc in cur.description])\n",
    "\n",
    "# Close the connection\n",
    "cur.close()\n",
    "conn.close()\n",
    "\n",
    "df=df.fillna('-')\n",
    "df.isna().sum()\n",
    "\n",
    "# Display the DataFrame\n",
    "# print(df.head(3))\n"
   ]
  },
  {
   "cell_type": "code",
   "execution_count": 75,
   "id": "e93e1e91-4293-41d8-a19d-7fca4a8bbf7d",
   "metadata": {},
   "outputs": [
    {
     "data": {
      "text/plain": [
       "sl_no                                0\n",
       "name                                 0\n",
       "source                               0\n",
       "date_of_appointment_as_addl_judge    0\n",
       "date_of_appointment_as_pmt_judge     0\n",
       "date_of_retirement                   0\n",
       "remarks                              0\n",
       "dtype: int64"
      ]
     },
     "execution_count": 75,
     "metadata": {},
     "output_type": "execute_result"
    }
   ],
   "source": [
    "import psycopg2\n",
    "import pandas as pd\n",
    "\n",
    "# Connection details\n",
    "conn = psycopg2.connect(\n",
    "    dbname=\"sampledata\",\n",
    "    user=\"yash\",\n",
    "    password=\"Hackstreet123!\",\n",
    "    host=\"sih123.postgres.database.azure.com\",\n",
    "    port=\"5432\"\n",
    ")\n",
    "\n",
    "# Create a cursor object\n",
    "cur = conn.cursor()\n",
    "\n",
    "# SQL Query\n",
    "query = query = 'SELECT * FROM \"judges_gujarathighcourtjudge\"'\n",
    "\n",
    "\n",
    "# Execute the query and fetch the data\n",
    "cur.execute(query)\n",
    "data = cur.fetchall()\n",
    "\n",
    "# Load data into a Pandas DataFrame\n",
    "df = pd.DataFrame(data, columns=[desc[0] for desc in cur.description])\n",
    "\n",
    "# Close the connection\n",
    "cur.close()\n",
    "conn.close()\n",
    "\n",
    "\n",
    "\n",
    "# Display the DataFrame\n",
    "# print(df.head(3))\n",
    "df=df.fillna('-')\n",
    "df.isna().sum()\n",
    "\n"
   ]
  },
  {
   "cell_type": "code",
   "execution_count": null,
   "id": "d3afcc32-df69-4301-b39b-050b48b082fa",
   "metadata": {},
   "outputs": [],
   "source": []
  },
  {
   "cell_type": "code",
   "execution_count": null,
   "id": "9209de42-3958-4330-bf3f-a2efd87b1638",
   "metadata": {},
   "outputs": [],
   "source": []
  }
 ],
 "metadata": {
  "kernelspec": {
   "display_name": "Python 3 (ipykernel)",
   "language": "python",
   "name": "python3"
  },
  "language_info": {
   "codemirror_mode": {
    "name": "ipython",
    "version": 3
   },
   "file_extension": ".py",
   "mimetype": "text/x-python",
   "name": "python",
   "nbconvert_exporter": "python",
   "pygments_lexer": "ipython3",
   "version": "3.12.4"
  }
 },
 "nbformat": 4,
 "nbformat_minor": 5
}
